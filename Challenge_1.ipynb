{
  "nbformat": 4,
  "nbformat_minor": 0,
  "metadata": {
    "colab": {
      "provenance": [],
      "authorship_tag": "ABX9TyMF1G25E4ccskTLZ8PDCbrX",
      "include_colab_link": true
    },
    "kernelspec": {
      "name": "python3",
      "display_name": "Python 3"
    },
    "language_info": {
      "name": "python"
    }
  },
  "cells": [
    {
      "cell_type": "markdown",
      "metadata": {
        "id": "view-in-github",
        "colab_type": "text"
      },
      "source": [
        "<a href=\"https://colab.research.google.com/github/valeryjohannasolartemogollon/challenge-1-data-science/blob/main/Challenge_1.ipynb\" target=\"_parent\"><img src=\"https://colab.research.google.com/assets/colab-badge.svg\" alt=\"Open In Colab\"/></a>"
      ]
    },
    {
      "cell_type": "code",
      "execution_count": 5,
      "metadata": {
        "colab": {
          "base_uri": "https://localhost:8080/",
          "height": 206
        },
        "id": "R1o80cbguGKI",
        "outputId": "17487c80-0dfd-4106-90ff-9981ee61bf66"
      },
      "outputs": [
        {
          "output_type": "execute_result",
          "data": {
            "text/plain": [
              "            Producto Categoría del Producto    Precio  Costo de envío  \\\n",
              "0  Asistente virtual           Electrónicos  164300.0          6900.0   \n",
              "1    Mesa de comedor                Muebles  192300.0          8400.0   \n",
              "2      Juego de mesa               Juguetes  209600.0         15900.0   \n",
              "3         Microondas      Electrodomésticos  757500.0         41000.0   \n",
              "4   Silla de oficina                Muebles  335200.0         20200.0   \n",
              "\n",
              "  Fecha de Compra         Vendedor Lugar de Compra  Calificación  \\\n",
              "0      16/01/2021      Pedro Gomez          Bogotá             4   \n",
              "1      18/05/2022  Beatriz Morales        Medellín             1   \n",
              "2      15/03/2021   Juan Fernandez       Cartagena             1   \n",
              "3      03/05/2022   Juan Fernandez            Cali             4   \n",
              "4      07/11/2020    Maria Alfonso        Medellín             5   \n",
              "\n",
              "       Método de pago  Cantidad de cuotas       lat       lon  \n",
              "0  Tarjeta de crédito                   8   4.60971 -74.08175  \n",
              "1  Tarjeta de crédito                   4   6.25184 -75.56359  \n",
              "2  Tarjeta de crédito                   1  10.39972 -75.51444  \n",
              "3               Nequi                   1   3.43722 -76.52250  \n",
              "4               Nequi                   1   6.25184 -75.56359  "
            ],
            "text/html": [
              "\n",
              "  <div id=\"df-1c37618f-0e5c-4cd4-82fe-e763759b82f7\" class=\"colab-df-container\">\n",
              "    <div>\n",
              "<style scoped>\n",
              "    .dataframe tbody tr th:only-of-type {\n",
              "        vertical-align: middle;\n",
              "    }\n",
              "\n",
              "    .dataframe tbody tr th {\n",
              "        vertical-align: top;\n",
              "    }\n",
              "\n",
              "    .dataframe thead th {\n",
              "        text-align: right;\n",
              "    }\n",
              "</style>\n",
              "<table border=\"1\" class=\"dataframe\">\n",
              "  <thead>\n",
              "    <tr style=\"text-align: right;\">\n",
              "      <th></th>\n",
              "      <th>Producto</th>\n",
              "      <th>Categoría del Producto</th>\n",
              "      <th>Precio</th>\n",
              "      <th>Costo de envío</th>\n",
              "      <th>Fecha de Compra</th>\n",
              "      <th>Vendedor</th>\n",
              "      <th>Lugar de Compra</th>\n",
              "      <th>Calificación</th>\n",
              "      <th>Método de pago</th>\n",
              "      <th>Cantidad de cuotas</th>\n",
              "      <th>lat</th>\n",
              "      <th>lon</th>\n",
              "    </tr>\n",
              "  </thead>\n",
              "  <tbody>\n",
              "    <tr>\n",
              "      <th>0</th>\n",
              "      <td>Asistente virtual</td>\n",
              "      <td>Electrónicos</td>\n",
              "      <td>164300.0</td>\n",
              "      <td>6900.0</td>\n",
              "      <td>16/01/2021</td>\n",
              "      <td>Pedro Gomez</td>\n",
              "      <td>Bogotá</td>\n",
              "      <td>4</td>\n",
              "      <td>Tarjeta de crédito</td>\n",
              "      <td>8</td>\n",
              "      <td>4.60971</td>\n",
              "      <td>-74.08175</td>\n",
              "    </tr>\n",
              "    <tr>\n",
              "      <th>1</th>\n",
              "      <td>Mesa de comedor</td>\n",
              "      <td>Muebles</td>\n",
              "      <td>192300.0</td>\n",
              "      <td>8400.0</td>\n",
              "      <td>18/05/2022</td>\n",
              "      <td>Beatriz Morales</td>\n",
              "      <td>Medellín</td>\n",
              "      <td>1</td>\n",
              "      <td>Tarjeta de crédito</td>\n",
              "      <td>4</td>\n",
              "      <td>6.25184</td>\n",
              "      <td>-75.56359</td>\n",
              "    </tr>\n",
              "    <tr>\n",
              "      <th>2</th>\n",
              "      <td>Juego de mesa</td>\n",
              "      <td>Juguetes</td>\n",
              "      <td>209600.0</td>\n",
              "      <td>15900.0</td>\n",
              "      <td>15/03/2021</td>\n",
              "      <td>Juan Fernandez</td>\n",
              "      <td>Cartagena</td>\n",
              "      <td>1</td>\n",
              "      <td>Tarjeta de crédito</td>\n",
              "      <td>1</td>\n",
              "      <td>10.39972</td>\n",
              "      <td>-75.51444</td>\n",
              "    </tr>\n",
              "    <tr>\n",
              "      <th>3</th>\n",
              "      <td>Microondas</td>\n",
              "      <td>Electrodomésticos</td>\n",
              "      <td>757500.0</td>\n",
              "      <td>41000.0</td>\n",
              "      <td>03/05/2022</td>\n",
              "      <td>Juan Fernandez</td>\n",
              "      <td>Cali</td>\n",
              "      <td>4</td>\n",
              "      <td>Nequi</td>\n",
              "      <td>1</td>\n",
              "      <td>3.43722</td>\n",
              "      <td>-76.52250</td>\n",
              "    </tr>\n",
              "    <tr>\n",
              "      <th>4</th>\n",
              "      <td>Silla de oficina</td>\n",
              "      <td>Muebles</td>\n",
              "      <td>335200.0</td>\n",
              "      <td>20200.0</td>\n",
              "      <td>07/11/2020</td>\n",
              "      <td>Maria Alfonso</td>\n",
              "      <td>Medellín</td>\n",
              "      <td>5</td>\n",
              "      <td>Nequi</td>\n",
              "      <td>1</td>\n",
              "      <td>6.25184</td>\n",
              "      <td>-75.56359</td>\n",
              "    </tr>\n",
              "  </tbody>\n",
              "</table>\n",
              "</div>\n",
              "    <div class=\"colab-df-buttons\">\n",
              "\n",
              "  <div class=\"colab-df-container\">\n",
              "    <button class=\"colab-df-convert\" onclick=\"convertToInteractive('df-1c37618f-0e5c-4cd4-82fe-e763759b82f7')\"\n",
              "            title=\"Convert this dataframe to an interactive table.\"\n",
              "            style=\"display:none;\">\n",
              "\n",
              "  <svg xmlns=\"http://www.w3.org/2000/svg\" height=\"24px\" viewBox=\"0 -960 960 960\">\n",
              "    <path d=\"M120-120v-720h720v720H120Zm60-500h600v-160H180v160Zm220 220h160v-160H400v160Zm0 220h160v-160H400v160ZM180-400h160v-160H180v160Zm440 0h160v-160H620v160ZM180-180h160v-160H180v160Zm440 0h160v-160H620v160Z\"/>\n",
              "  </svg>\n",
              "    </button>\n",
              "\n",
              "  <style>\n",
              "    .colab-df-container {\n",
              "      display:flex;\n",
              "      gap: 12px;\n",
              "    }\n",
              "\n",
              "    .colab-df-convert {\n",
              "      background-color: #E8F0FE;\n",
              "      border: none;\n",
              "      border-radius: 50%;\n",
              "      cursor: pointer;\n",
              "      display: none;\n",
              "      fill: #1967D2;\n",
              "      height: 32px;\n",
              "      padding: 0 0 0 0;\n",
              "      width: 32px;\n",
              "    }\n",
              "\n",
              "    .colab-df-convert:hover {\n",
              "      background-color: #E2EBFA;\n",
              "      box-shadow: 0px 1px 2px rgba(60, 64, 67, 0.3), 0px 1px 3px 1px rgba(60, 64, 67, 0.15);\n",
              "      fill: #174EA6;\n",
              "    }\n",
              "\n",
              "    .colab-df-buttons div {\n",
              "      margin-bottom: 4px;\n",
              "    }\n",
              "\n",
              "    [theme=dark] .colab-df-convert {\n",
              "      background-color: #3B4455;\n",
              "      fill: #D2E3FC;\n",
              "    }\n",
              "\n",
              "    [theme=dark] .colab-df-convert:hover {\n",
              "      background-color: #434B5C;\n",
              "      box-shadow: 0px 1px 3px 1px rgba(0, 0, 0, 0.15);\n",
              "      filter: drop-shadow(0px 1px 2px rgba(0, 0, 0, 0.3));\n",
              "      fill: #FFFFFF;\n",
              "    }\n",
              "  </style>\n",
              "\n",
              "    <script>\n",
              "      const buttonEl =\n",
              "        document.querySelector('#df-1c37618f-0e5c-4cd4-82fe-e763759b82f7 button.colab-df-convert');\n",
              "      buttonEl.style.display =\n",
              "        google.colab.kernel.accessAllowed ? 'block' : 'none';\n",
              "\n",
              "      async function convertToInteractive(key) {\n",
              "        const element = document.querySelector('#df-1c37618f-0e5c-4cd4-82fe-e763759b82f7');\n",
              "        const dataTable =\n",
              "          await google.colab.kernel.invokeFunction('convertToInteractive',\n",
              "                                                    [key], {});\n",
              "        if (!dataTable) return;\n",
              "\n",
              "        const docLinkHtml = 'Like what you see? Visit the ' +\n",
              "          '<a target=\"_blank\" href=https://colab.research.google.com/notebooks/data_table.ipynb>data table notebook</a>'\n",
              "          + ' to learn more about interactive tables.';\n",
              "        element.innerHTML = '';\n",
              "        dataTable['output_type'] = 'display_data';\n",
              "        await google.colab.output.renderOutput(dataTable, element);\n",
              "        const docLink = document.createElement('div');\n",
              "        docLink.innerHTML = docLinkHtml;\n",
              "        element.appendChild(docLink);\n",
              "      }\n",
              "    </script>\n",
              "  </div>\n",
              "\n",
              "\n",
              "    <div id=\"df-b8725cf4-be47-41ae-b796-b5a9fb3c4166\">\n",
              "      <button class=\"colab-df-quickchart\" onclick=\"quickchart('df-b8725cf4-be47-41ae-b796-b5a9fb3c4166')\"\n",
              "                title=\"Suggest charts\"\n",
              "                style=\"display:none;\">\n",
              "\n",
              "<svg xmlns=\"http://www.w3.org/2000/svg\" height=\"24px\"viewBox=\"0 0 24 24\"\n",
              "     width=\"24px\">\n",
              "    <g>\n",
              "        <path d=\"M19 3H5c-1.1 0-2 .9-2 2v14c0 1.1.9 2 2 2h14c1.1 0 2-.9 2-2V5c0-1.1-.9-2-2-2zM9 17H7v-7h2v7zm4 0h-2V7h2v10zm4 0h-2v-4h2v4z\"/>\n",
              "    </g>\n",
              "</svg>\n",
              "      </button>\n",
              "\n",
              "<style>\n",
              "  .colab-df-quickchart {\n",
              "      --bg-color: #E8F0FE;\n",
              "      --fill-color: #1967D2;\n",
              "      --hover-bg-color: #E2EBFA;\n",
              "      --hover-fill-color: #174EA6;\n",
              "      --disabled-fill-color: #AAA;\n",
              "      --disabled-bg-color: #DDD;\n",
              "  }\n",
              "\n",
              "  [theme=dark] .colab-df-quickchart {\n",
              "      --bg-color: #3B4455;\n",
              "      --fill-color: #D2E3FC;\n",
              "      --hover-bg-color: #434B5C;\n",
              "      --hover-fill-color: #FFFFFF;\n",
              "      --disabled-bg-color: #3B4455;\n",
              "      --disabled-fill-color: #666;\n",
              "  }\n",
              "\n",
              "  .colab-df-quickchart {\n",
              "    background-color: var(--bg-color);\n",
              "    border: none;\n",
              "    border-radius: 50%;\n",
              "    cursor: pointer;\n",
              "    display: none;\n",
              "    fill: var(--fill-color);\n",
              "    height: 32px;\n",
              "    padding: 0;\n",
              "    width: 32px;\n",
              "  }\n",
              "\n",
              "  .colab-df-quickchart:hover {\n",
              "    background-color: var(--hover-bg-color);\n",
              "    box-shadow: 0 1px 2px rgba(60, 64, 67, 0.3), 0 1px 3px 1px rgba(60, 64, 67, 0.15);\n",
              "    fill: var(--button-hover-fill-color);\n",
              "  }\n",
              "\n",
              "  .colab-df-quickchart-complete:disabled,\n",
              "  .colab-df-quickchart-complete:disabled:hover {\n",
              "    background-color: var(--disabled-bg-color);\n",
              "    fill: var(--disabled-fill-color);\n",
              "    box-shadow: none;\n",
              "  }\n",
              "\n",
              "  .colab-df-spinner {\n",
              "    border: 2px solid var(--fill-color);\n",
              "    border-color: transparent;\n",
              "    border-bottom-color: var(--fill-color);\n",
              "    animation:\n",
              "      spin 1s steps(1) infinite;\n",
              "  }\n",
              "\n",
              "  @keyframes spin {\n",
              "    0% {\n",
              "      border-color: transparent;\n",
              "      border-bottom-color: var(--fill-color);\n",
              "      border-left-color: var(--fill-color);\n",
              "    }\n",
              "    20% {\n",
              "      border-color: transparent;\n",
              "      border-left-color: var(--fill-color);\n",
              "      border-top-color: var(--fill-color);\n",
              "    }\n",
              "    30% {\n",
              "      border-color: transparent;\n",
              "      border-left-color: var(--fill-color);\n",
              "      border-top-color: var(--fill-color);\n",
              "      border-right-color: var(--fill-color);\n",
              "    }\n",
              "    40% {\n",
              "      border-color: transparent;\n",
              "      border-right-color: var(--fill-color);\n",
              "      border-top-color: var(--fill-color);\n",
              "    }\n",
              "    60% {\n",
              "      border-color: transparent;\n",
              "      border-right-color: var(--fill-color);\n",
              "    }\n",
              "    80% {\n",
              "      border-color: transparent;\n",
              "      border-right-color: var(--fill-color);\n",
              "      border-bottom-color: var(--fill-color);\n",
              "    }\n",
              "    90% {\n",
              "      border-color: transparent;\n",
              "      border-bottom-color: var(--fill-color);\n",
              "    }\n",
              "  }\n",
              "</style>\n",
              "\n",
              "      <script>\n",
              "        async function quickchart(key) {\n",
              "          const quickchartButtonEl =\n",
              "            document.querySelector('#' + key + ' button');\n",
              "          quickchartButtonEl.disabled = true;  // To prevent multiple clicks.\n",
              "          quickchartButtonEl.classList.add('colab-df-spinner');\n",
              "          try {\n",
              "            const charts = await google.colab.kernel.invokeFunction(\n",
              "                'suggestCharts', [key], {});\n",
              "          } catch (error) {\n",
              "            console.error('Error during call to suggestCharts:', error);\n",
              "          }\n",
              "          quickchartButtonEl.classList.remove('colab-df-spinner');\n",
              "          quickchartButtonEl.classList.add('colab-df-quickchart-complete');\n",
              "        }\n",
              "        (() => {\n",
              "          let quickchartButtonEl =\n",
              "            document.querySelector('#df-b8725cf4-be47-41ae-b796-b5a9fb3c4166 button');\n",
              "          quickchartButtonEl.style.display =\n",
              "            google.colab.kernel.accessAllowed ? 'block' : 'none';\n",
              "        })();\n",
              "      </script>\n",
              "    </div>\n",
              "\n",
              "    </div>\n",
              "  </div>\n"
            ],
            "application/vnd.google.colaboratory.intrinsic+json": {
              "type": "dataframe",
              "variable_name": "tienda",
              "summary": "{\n  \"name\": \"tienda\",\n  \"rows\": 2359,\n  \"fields\": [\n    {\n      \"column\": \"Producto\",\n      \"properties\": {\n        \"dtype\": \"category\",\n        \"num_unique_values\": 51,\n        \"samples\": [\n          \"Guitarra ac\\u00fastica\",\n          \"Bal\\u00f3n de baloncesto\",\n          \"Smartwatch\"\n        ],\n        \"semantic_type\": \"\",\n        \"description\": \"\"\n      }\n    },\n    {\n      \"column\": \"Categor\\u00eda del Producto\",\n      \"properties\": {\n        \"dtype\": \"category\",\n        \"num_unique_values\": 8,\n        \"samples\": [\n          \"Muebles\",\n          \"Deportes y diversi\\u00f3n\",\n          \"Electr\\u00f3nicos\"\n        ],\n        \"semantic_type\": \"\",\n        \"description\": \"\"\n      }\n    },\n    {\n      \"column\": \"Precio\",\n      \"properties\": {\n        \"dtype\": \"number\",\n        \"std\": 614686.7653873172,\n        \"min\": 7600.0,\n        \"max\": 2977000.0,\n        \"num_unique_values\": 1937,\n        \"samples\": [\n          2499400.0,\n          14800.0,\n          80500.0\n        ],\n        \"semantic_type\": \"\",\n        \"description\": \"\"\n      }\n    },\n    {\n      \"column\": \"Costo de env\\u00edo\",\n      \"properties\": {\n        \"dtype\": \"number\",\n        \"std\": 32860.0017825605,\n        \"min\": 0.0,\n        \"max\": 160800.0,\n        \"num_unique_values\": 753,\n        \"samples\": [\n          117800.0,\n          54700.0,\n          45600.0\n        ],\n        \"semantic_type\": \"\",\n        \"description\": \"\"\n      }\n    },\n    {\n      \"column\": \"Fecha de Compra\",\n      \"properties\": {\n        \"dtype\": \"object\",\n        \"num_unique_values\": 1018,\n        \"samples\": [\n          \"15/09/2022\",\n          \"03/06/2020\",\n          \"06/11/2021\"\n        ],\n        \"semantic_type\": \"\",\n        \"description\": \"\"\n      }\n    },\n    {\n      \"column\": \"Vendedor\",\n      \"properties\": {\n        \"dtype\": \"category\",\n        \"num_unique_values\": 14,\n        \"samples\": [\n          \"Juliana Costa\",\n          \"Mariana Herrera\",\n          \"Pedro Gomez\"\n        ],\n        \"semantic_type\": \"\",\n        \"description\": \"\"\n      }\n    },\n    {\n      \"column\": \"Lugar de Compra\",\n      \"properties\": {\n        \"dtype\": \"category\",\n        \"num_unique_values\": 19,\n        \"samples\": [\n          \"Bogot\\u00e1\",\n          \"Pereira\",\n          \"Neiva\"\n        ],\n        \"semantic_type\": \"\",\n        \"description\": \"\"\n      }\n    },\n    {\n      \"column\": \"Calificaci\\u00f3n\",\n      \"properties\": {\n        \"dtype\": \"number\",\n        \"std\": 1,\n        \"min\": 1,\n        \"max\": 5,\n        \"num_unique_values\": 5,\n        \"samples\": [\n          1,\n          2,\n          5\n        ],\n        \"semantic_type\": \"\",\n        \"description\": \"\"\n      }\n    },\n    {\n      \"column\": \"M\\u00e9todo de pago\",\n      \"properties\": {\n        \"dtype\": \"category\",\n        \"num_unique_values\": 4,\n        \"samples\": [\n          \"Nequi\",\n          \"Tarjeta de d\\u00e9bito\",\n          \"Tarjeta de cr\\u00e9dito\"\n        ],\n        \"semantic_type\": \"\",\n        \"description\": \"\"\n      }\n    },\n    {\n      \"column\": \"Cantidad de cuotas\",\n      \"properties\": {\n        \"dtype\": \"number\",\n        \"std\": 2,\n        \"min\": 1,\n        \"max\": 24,\n        \"num_unique_values\": 15,\n        \"samples\": [\n          7,\n          14,\n          8\n        ],\n        \"semantic_type\": \"\",\n        \"description\": \"\"\n      }\n    },\n    {\n      \"column\": \"lat\",\n      \"properties\": {\n        \"dtype\": \"number\",\n        \"std\": 2.2874452492678627,\n        \"min\": -4.21528,\n        \"max\": 11.54444,\n        \"num_unique_values\": 19,\n        \"samples\": [\n          4.60971,\n          4.81333,\n          2.9273\n        ],\n        \"semantic_type\": \"\",\n        \"description\": \"\"\n      }\n    },\n    {\n      \"column\": \"lon\",\n      \"properties\": {\n        \"dtype\": \"number\",\n        \"std\": 1.2178272727088486,\n        \"min\": -77.28111,\n        \"max\": -67.9239,\n        \"num_unique_values\": 19,\n        \"samples\": [\n          -74.08175,\n          -75.69611,\n          -75.28189\n        ],\n        \"semantic_type\": \"\",\n        \"description\": \"\"\n      }\n    }\n  ]\n}"
            }
          },
          "metadata": {},
          "execution_count": 5
        }
      ],
      "source": [
        "import pandas as pd\n",
        "\n",
        "url = \"https://raw.githubusercontent.com/alura-es-cursos/challenge1-data-science-latam/refs/heads/main/base-de-datos-challenge1-latam/tienda_1%20.csv\"\n",
        "url2 = \"https://raw.githubusercontent.com/alura-es-cursos/challenge1-data-science-latam/refs/heads/main/base-de-datos-challenge1-latam/tienda_2.csv\"\n",
        "url3 = \"https://raw.githubusercontent.com/alura-es-cursos/challenge1-data-science-latam/refs/heads/main/base-de-datos-challenge1-latam/tienda_3.csv\"\n",
        "url4 = \"https://raw.githubusercontent.com/alura-es-cursos/challenge1-data-science-latam/refs/heads/main/base-de-datos-challenge1-latam/tienda_4.csv\"\n",
        "\n",
        "tienda = pd.read_csv(url)\n",
        "tienda2 = pd.read_csv(url2)\n",
        "tienda3 = pd.read_csv(url3)\n",
        "tienda4 = pd.read_csv(url4)\n",
        "\n",
        "tienda.head()"
      ]
    },
    {
      "cell_type": "markdown",
      "source": [
        "1. Análisis de facturación"
      ],
      "metadata": {
        "id": "HStb4QsxFu8a"
      }
    },
    {
      "cell_type": "code",
      "source": [
        "suma_precios_tienda=sum(tienda.Precio)\n",
        "print('Tienda 1:',suma_precios_tienda)"
      ],
      "metadata": {
        "colab": {
          "base_uri": "https://localhost:8080/"
        },
        "id": "5L2MvW-hIPBt",
        "outputId": "3d3bdd3f-6959-4f4f-fb21-6b042fb90256"
      },
      "execution_count": 16,
      "outputs": [
        {
          "output_type": "stream",
          "name": "stdout",
          "text": [
            "tienda: 1150880400.0\n"
          ]
        }
      ]
    },
    {
      "cell_type": "code",
      "source": [
        "suma_precios_tienda2=sum(tienda2.Precio)\n",
        "print('Tienda 2:',suma_precios_tienda2)"
      ],
      "metadata": {
        "colab": {
          "base_uri": "https://localhost:8080/"
        },
        "id": "5HvqXEwBFytk",
        "outputId": "ef1995fe-60f2-46c0-ee40-32ebcf8549f8"
      },
      "execution_count": 17,
      "outputs": [
        {
          "output_type": "stream",
          "name": "stdout",
          "text": [
            "tienda2: 1116343500.0\n"
          ]
        }
      ]
    },
    {
      "cell_type": "code",
      "source": [
        "suma_precios_tienda3=sum(tienda3.Precio)\n",
        "print('Tienda 3:',suma_precios_tienda3)"
      ],
      "metadata": {
        "colab": {
          "base_uri": "https://localhost:8080/"
        },
        "id": "i4ds8jXILMEl",
        "outputId": "fd432f77-3075-4ef0-a9d9-5be93986cd09"
      },
      "execution_count": 18,
      "outputs": [
        {
          "output_type": "stream",
          "name": "stdout",
          "text": [
            "tienda3: 1098019600.0\n"
          ]
        }
      ]
    },
    {
      "cell_type": "code",
      "source": [
        "suma_precios_tienda4=sum(tienda4.Precio)\n",
        "print('Tienda 4:',suma_precios_tienda4)"
      ],
      "metadata": {
        "colab": {
          "base_uri": "https://localhost:8080/"
        },
        "id": "ivJm642nLPuh",
        "outputId": "4e007b2f-bcff-47d5-d376-e9ddde9abdff"
      },
      "execution_count": 19,
      "outputs": [
        {
          "output_type": "stream",
          "name": "stdout",
          "text": [
            "tienda4: 1038375700.0\n"
          ]
        }
      ]
    },
    {
      "cell_type": "markdown",
      "source": [
        "2. Ventas por categoría"
      ],
      "metadata": {
        "id": "tdD_NDP8LTxM"
      }
    },
    {
      "cell_type": "code",
      "source": [
        "ventas_por_categoria_tienda = tienda.groupby('Categoría del Producto').size().reset_index(name='Cantidad Vendida')\n",
        "print(\"Ventas por categoría en Tienda 1:\")\n",
        "print(ventas_por_categoria_tienda.sort_values(by='Cantidad Vendida', ascending=False))"
      ],
      "metadata": {
        "colab": {
          "base_uri": "https://localhost:8080/"
        },
        "id": "LE5acLpWLYCq",
        "outputId": "eb5e462a-dd2c-459a-f999-3b86071acb4a"
      },
      "execution_count": 21,
      "outputs": [
        {
          "output_type": "stream",
          "name": "stdout",
          "text": [
            "Ventas por categoría en Tienda 1:\n",
            "    Categoría del Producto  Cantidad Vendida\n",
            "7                  Muebles               465\n",
            "3             Electrónicos               448\n",
            "5                 Juguetes               324\n",
            "2        Electrodomésticos               312\n",
            "1     Deportes y diversión               284\n",
            "4   Instrumentos musicales               182\n",
            "6                   Libros               173\n",
            "0  Artículos para el hogar               171\n"
          ]
        }
      ]
    },
    {
      "cell_type": "code",
      "source": [
        "ventas_por_categoria_tienda2 = tienda2.groupby('Categoría del Producto').size().reset_index(name='Cantidad Vendida')\n",
        "print(\"\\nVentas por categoría en Tienda 2:\")\n",
        "print(ventas_por_categoria_tienda2.sort_values(by='Cantidad Vendida', ascending=False))"
      ],
      "metadata": {
        "colab": {
          "base_uri": "https://localhost:8080/"
        },
        "id": "AME-SIDzMf6j",
        "outputId": "c46f3f57-8bd3-4bc6-ed1c-de7453794b91"
      },
      "execution_count": 22,
      "outputs": [
        {
          "output_type": "stream",
          "name": "stdout",
          "text": [
            "\n",
            "Ventas por categoría en Tienda 2:\n",
            "    Categoría del Producto  Cantidad Vendida\n",
            "7                  Muebles               442\n",
            "3             Electrónicos               422\n",
            "5                 Juguetes               313\n",
            "2        Electrodomésticos               305\n",
            "1     Deportes y diversión               275\n",
            "4   Instrumentos musicales               224\n",
            "6                   Libros               197\n",
            "0  Artículos para el hogar               181\n"
          ]
        }
      ]
    },
    {
      "cell_type": "code",
      "source": [
        "ventas_por_categoria_tienda3 = tienda3.groupby('Categoría del Producto').size().reset_index(name='Cantidad Vendida')\n",
        "print(\"\\nVentas por categoría en Tienda 3:\")\n",
        "print(ventas_por_categoria_tienda3.sort_values(by='Cantidad Vendida', ascending=False))"
      ],
      "metadata": {
        "colab": {
          "base_uri": "https://localhost:8080/"
        },
        "id": "UvfmXtseMis1",
        "outputId": "38f04e19-5e64-423e-8b15-17f5d388a236"
      },
      "execution_count": 23,
      "outputs": [
        {
          "output_type": "stream",
          "name": "stdout",
          "text": [
            "\n",
            "Ventas por categoría en Tienda 3:\n",
            "    Categoría del Producto  Cantidad Vendida\n",
            "7                  Muebles               499\n",
            "3             Electrónicos               451\n",
            "5                 Juguetes               315\n",
            "2        Electrodomésticos               278\n",
            "1     Deportes y diversión               277\n",
            "6                   Libros               185\n",
            "0  Artículos para el hogar               177\n",
            "4   Instrumentos musicales               177\n"
          ]
        }
      ]
    },
    {
      "cell_type": "code",
      "source": [
        "ventas_por_categoria_tienda4 = tienda4.groupby('Categoría del Producto').size().reset_index(name='Cantidad Vendida')\n",
        "print(\"\\nVentas por categoría en Tienda 4:\")\n",
        "print(ventas_por_categoria_tienda4.sort_values(by='Cantidad Vendida', ascending=False))"
      ],
      "metadata": {
        "colab": {
          "base_uri": "https://localhost:8080/"
        },
        "id": "McvhI6iyMmVJ",
        "outputId": "5d440d28-19de-4a02-9211-28a3ffbc7cc4"
      },
      "execution_count": 24,
      "outputs": [
        {
          "output_type": "stream",
          "name": "stdout",
          "text": [
            "\n",
            "Ventas por categoría en Tienda 4:\n",
            "    Categoría del Producto  Cantidad Vendida\n",
            "7                  Muebles               480\n",
            "3             Electrónicos               451\n",
            "5                 Juguetes               338\n",
            "1     Deportes y diversión               277\n",
            "2        Electrodomésticos               254\n",
            "0  Artículos para el hogar               201\n",
            "6                   Libros               187\n",
            "4   Instrumentos musicales               170\n"
          ]
        }
      ]
    },
    {
      "cell_type": "markdown",
      "source": [
        "3. Calificación promedio de la tienda"
      ],
      "metadata": {
        "id": "WkthVNbpMsaH"
      }
    },
    {
      "cell_type": "code",
      "source": [
        "calificacion_tienda=round(sum(tienda.Calificación)/len(tienda.Calificación),2)\n",
        "print('calificacion Tienda 1:',calificacion_tienda)"
      ],
      "metadata": {
        "colab": {
          "base_uri": "https://localhost:8080/"
        },
        "id": "yTK_G9K6NTwa",
        "outputId": "9c2dffab-6267-42c3-d9ac-4ef1e9dac660"
      },
      "execution_count": 35,
      "outputs": [
        {
          "output_type": "stream",
          "name": "stdout",
          "text": [
            "calificacion_tienda: 3.98\n"
          ]
        }
      ]
    },
    {
      "cell_type": "code",
      "source": [
        "calificacion_tienda2=round(sum(tienda2.Calificación)/len(tienda2.Calificación),2)\n",
        "print('calificacion Tienda 2:',calificacion_tienda2)"
      ],
      "metadata": {
        "colab": {
          "base_uri": "https://localhost:8080/"
        },
        "outputId": "f20a10e2-b065-4eb3-bcce-673b9532ffba",
        "id": "-sRrEG4nOyT_"
      },
      "execution_count": 36,
      "outputs": [
        {
          "output_type": "stream",
          "name": "stdout",
          "text": [
            "calificacion_tienda2: 4.04\n"
          ]
        }
      ]
    },
    {
      "cell_type": "code",
      "source": [
        "calificacion_tienda3=round(sum(tienda3.Calificación)/len(tienda3.Calificación),2)\n",
        "print('calificacion Tienda 3:',calificacion_tienda3)"
      ],
      "metadata": {
        "colab": {
          "base_uri": "https://localhost:8080/"
        },
        "outputId": "36f27db1-9eca-40f2-d5de-c9335f34b575",
        "id": "7P2ZqxyBO5yq"
      },
      "execution_count": 37,
      "outputs": [
        {
          "output_type": "stream",
          "name": "stdout",
          "text": [
            "calificacion_tienda3: 4.05\n"
          ]
        }
      ]
    },
    {
      "cell_type": "code",
      "source": [
        "calificacion_tienda4=round(sum(tienda4.Calificación)/len(tienda4.Calificación),2)\n",
        "print('calificacion Tienda 4:',calificacion_tienda4)"
      ],
      "metadata": {
        "colab": {
          "base_uri": "https://localhost:8080/"
        },
        "outputId": "bc8853e3-a404-414d-e7e1-d291e78a8870",
        "id": "Z3u27KEXO49l"
      },
      "execution_count": 38,
      "outputs": [
        {
          "output_type": "stream",
          "name": "stdout",
          "text": [
            "calificacion_tienda4: 4.0\n"
          ]
        }
      ]
    },
    {
      "cell_type": "markdown",
      "source": [
        "4. Productos más y menos vendidos"
      ],
      "metadata": {
        "id": "Za6aeXYlP_Yn"
      }
    },
    {
      "cell_type": "code",
      "source": [
        "productos_vendidos = tienda.groupby('Producto').size().reset_index(name='Cantidad Vendida')\n",
        "productos_vendidos = productos_vendidos.sort_values(by='Cantidad Vendida', ascending=False)\n",
        "\n",
        "productos_mas_vendidos = productos_vendidos.head(5)\n",
        "productos_menos_vendidos = productos_vendidos.tail(5)\n",
        "\n",
        "print(\"\\nTienda 1\")\n",
        "print(\"Productos más vendidos:\")\n",
        "print(productos_mas_vendidos)\n",
        "\n",
        "print(\"\\nProductos menos vendidos:\")\n",
        "print(productos_menos_vendidos)"
      ],
      "metadata": {
        "colab": {
          "base_uri": "https://localhost:8080/"
        },
        "id": "W-n7xhWyQPQT",
        "outputId": "2cb53f0b-107d-48e5-f12b-1867ab7248f0"
      },
      "execution_count": 46,
      "outputs": [
        {
          "output_type": "stream",
          "name": "stdout",
          "text": [
            "\n",
            "Tienda 1\n",
            "Productos más vendidos:\n",
            "            Producto  Cantidad Vendida\n",
            "1            Armario                60\n",
            "48     TV LED UHD 4K                60\n",
            "33        Microondas                60\n",
            "40  Secadora de ropa                58\n",
            "32     Mesa de noche                56\n",
            "\n",
            "Productos menos vendidos:\n",
            "                     Producto  Cantidad Vendida\n",
            "34                    Mochila                39\n",
            "38                  Pandereta                36\n",
            "37            Olla de presión                35\n",
            "13               Celular ABXY                33\n",
            "4   Auriculares con micrófono                33\n"
          ]
        }
      ]
    },
    {
      "cell_type": "code",
      "source": [
        "productos_vendidos = tienda2.groupby('Producto').size().reset_index(name='Cantidad Vendida')\n",
        "productos_vendidos = productos_vendidos.sort_values(by='Cantidad Vendida', ascending=False)\n",
        "\n",
        "productos_mas_vendidos = productos_vendidos.head(5)\n",
        "productos_menos_vendidos = productos_vendidos.tail(5)\n",
        "\n",
        "print(\"\\nTienda 2\")\n",
        "print(\"Productos más vendidos:\")\n",
        "print(productos_mas_vendidos)\n",
        "\n",
        "print(\"\\nProductos menos vendidos:\")\n",
        "print(productos_menos_vendidos)"
      ],
      "metadata": {
        "colab": {
          "base_uri": "https://localhost:8080/"
        },
        "id": "A23NU_qsRaSa",
        "outputId": "7ed280a9-70e5-474b-9396-8f764cb9727e"
      },
      "execution_count": 47,
      "outputs": [
        {
          "output_type": "stream",
          "name": "stdout",
          "text": [
            "\n",
            "Tienda 2\n",
            "Productos más vendidos:\n",
            "                     Producto  Cantidad Vendida\n",
            "24  Iniciando en programación                65\n",
            "33                 Microondas                62\n",
            "7                     Batería                61\n",
            "38                  Pandereta                58\n",
            "21          Guitarra acústica                58\n",
            "\n",
            "Productos menos vendidos:\n",
            "           Producto  Cantidad Vendida\n",
            "3       Auriculares                37\n",
            "44           Sillón                35\n",
            "23        Impresora                34\n",
            "31  Mesa de comedor                34\n",
            "26    Juego de mesa                32\n"
          ]
        }
      ]
    },
    {
      "cell_type": "code",
      "source": [
        "productos_vendidos = tienda3.groupby('Producto').size().reset_index(name='Cantidad Vendida')\n",
        "productos_vendidos = productos_vendidos.sort_values(by='Cantidad Vendida', ascending=False)\n",
        "\n",
        "productos_mas_vendidos = productos_vendidos.head(5)\n",
        "productos_menos_vendidos = productos_vendidos.tail(5)\n",
        "\n",
        "print(\"\\nTienda 3\")\n",
        "print(\"Productos más vendidos:\")\n",
        "print(productos_mas_vendidos)\n",
        "\n",
        "print(\"\\nProductos menos vendidos:\")\n",
        "print(productos_menos_vendidos)"
      ],
      "metadata": {
        "colab": {
          "base_uri": "https://localhost:8080/"
        },
        "id": "hPGzckQQT82f",
        "outputId": "e2d07fb2-8417-4795-8a59-5263e32a61fc"
      },
      "execution_count": 48,
      "outputs": [
        {
          "output_type": "stream",
          "name": "stdout",
          "text": [
            "\n",
            "Tienda 3\n",
            "Productos más vendidos:\n",
            "           Producto  Cantidad Vendida\n",
            "27    Kit de bancas                57\n",
            "31  Mesa de comedor                56\n",
            "11        Cama king                56\n",
            "41     Set de ollas                55\n",
            "32    Mesa de noche                55\n",
            "\n",
            "Productos menos vendidos:\n",
            "                   Producto  Cantidad Vendida\n",
            "22       Guitarra eléctrica                38\n",
            "34                  Mochila                36\n",
            "33               Microondas                36\n",
            "42             Set de vasos                36\n",
            "9   Bloques de construcción                35\n"
          ]
        }
      ]
    },
    {
      "cell_type": "code",
      "source": [
        "productos_vendidos = tienda4.groupby('Producto').size().reset_index(name='Cantidad Vendida')\n",
        "productos_vendidos = productos_vendidos.sort_values(by='Cantidad Vendida', ascending=False)\n",
        "\n",
        "productos_mas_vendidos = productos_vendidos.head(5)\n",
        "productos_menos_vendidos = productos_vendidos.tail(5)\n",
        "\n",
        "print(\"\\nTienda 4\")\n",
        "print(\"Productos más vendidos:\")\n",
        "print(productos_mas_vendidos)\n",
        "\n",
        "print(\"\\nProductos menos vendidos:\")\n",
        "print(productos_menos_vendidos)"
      ],
      "metadata": {
        "colab": {
          "base_uri": "https://localhost:8080/"
        },
        "id": "mAeFWroPUCEf",
        "outputId": "99571bdc-eb4a-443c-ab45-231c551326b2"
      },
      "execution_count": 49,
      "outputs": [
        {
          "output_type": "stream",
          "name": "stdout",
          "text": [
            "\n",
            "Tienda 4\n",
            "Productos más vendidos:\n",
            "                     Producto  Cantidad Vendida\n",
            "10                   Cama box                62\n",
            "15                 Cubertería                59\n",
            "11                  Cama king                56\n",
            "18    Dashboards con Power BI                56\n",
            "12  Carrito de control remoto                55\n",
            "\n",
            "Productos menos vendidos:\n",
            "                       Producto  Cantidad Vendida\n",
            "14  Ciencia de datos con Python                38\n",
            "39                 Refrigerador                38\n",
            "21            Guitarra acústica                37\n",
            "1                       Armario                34\n",
            "22           Guitarra eléctrica                33\n"
          ]
        }
      ]
    },
    {
      "cell_type": "markdown",
      "source": [
        "5. Envío promedio por tienda"
      ],
      "metadata": {
        "id": "RqyVQJJvUdWB"
      }
    },
    {
      "cell_type": "code",
      "source": [
        "costo_envio_promedio=round(sum(tienda['Costo de envío'])/len(tienda['Costo de envío']),2)\n",
        "print('costo envio promedio Tienda 1:',costo_envio_promedio)"
      ],
      "metadata": {
        "colab": {
          "base_uri": "https://localhost:8080/"
        },
        "id": "Jr2UwMy_UgU6",
        "outputId": "e4b35fe7-702c-4775-afd5-3e142b484cf8"
      },
      "execution_count": 55,
      "outputs": [
        {
          "output_type": "stream",
          "name": "stdout",
          "text": [
            "costo envio promedio Tienda 1: 26018.61\n"
          ]
        }
      ]
    },
    {
      "cell_type": "code",
      "source": [
        "costo_envio_promedio=round(sum(tienda2['Costo de envío'])/len(tienda2['Costo de envío']),2)\n",
        "print('costo envio promedio Tienda 2:',costo_envio_promedio)"
      ],
      "metadata": {
        "colab": {
          "base_uri": "https://localhost:8080/"
        },
        "id": "x_3ICnzRW5gv",
        "outputId": "faeae247-398b-4c1e-c97d-77a83e2b0eba"
      },
      "execution_count": 56,
      "outputs": [
        {
          "output_type": "stream",
          "name": "stdout",
          "text": [
            "costo envio promedio Tienda 2: 25216.24\n"
          ]
        }
      ]
    },
    {
      "cell_type": "code",
      "source": [
        "costo_envio_promedio=round(sum(tienda3['Costo de envío'])/len(tienda3['Costo de envío']),2)\n",
        "print('costo envio promedio Tienda 3:',costo_envio_promedio)"
      ],
      "metadata": {
        "colab": {
          "base_uri": "https://localhost:8080/"
        },
        "id": "TQljPCSjW6Iq",
        "outputId": "32266848-a24c-4f50-f4f3-56c27d6f3812"
      },
      "execution_count": 57,
      "outputs": [
        {
          "output_type": "stream",
          "name": "stdout",
          "text": [
            "costo envio promedio Tienda 3: 24805.68\n"
          ]
        }
      ]
    },
    {
      "cell_type": "code",
      "source": [
        "costo_envio_promedio=round(sum(tienda4['Costo de envío'])/len(tienda4['Costo de envío']),2)\n",
        "print('costo envio promedio Tienda 4:',costo_envio_promedio)"
      ],
      "metadata": {
        "colab": {
          "base_uri": "https://localhost:8080/"
        },
        "id": "LvZ7BW7YW6pV",
        "outputId": "4ed0ed48-6142-4e46-9aff-7dbc7093020a"
      },
      "execution_count": 58,
      "outputs": [
        {
          "output_type": "stream",
          "name": "stdout",
          "text": [
            "costo envio promedio Tienda 4: 23459.46\n"
          ]
        }
      ]
    },
    {
      "cell_type": "markdown",
      "source": [
        "Graficos"
      ],
      "metadata": {
        "id": "QGRWjg_-Xtyo"
      }
    },
    {
      "cell_type": "code",
      "source": [
        "import matplotlib.pyplot as plt\n",
        "import numpy as np\n",
        "\n",
        "tiendas = ['Tienda 1', 'Tienda 2', 'Tienda 3', 'Tienda 4']\n",
        "facturacion_total = [suma_precios_tienda, suma_precios_tienda2, suma_precios_tienda3, suma_precios_tienda4]\n",
        "\n",
        "plt.figure(figsize=(8, 6))\n",
        "bars = plt.bar(tiendas, facturacion_total, color=['blue', 'green', 'red', 'purple'])\n",
        "plt.title('Análisis de Facturación por Tienda')\n",
        "plt.xlabel('Tienda')\n",
        "plt.ylabel('Facturación Total')\n",
        "\n",
        "# Add values on top of the bars\n",
        "for bar in bars:\n",
        "    yval = bar.get_height()\n",
        "    plt.text(bar.get_x() + bar.get_width()/2.0, yval, f'${yval:,.0f}', va='bottom', ha='center') # Add value label\n",
        "\n",
        "plt.show()"
      ],
      "metadata": {
        "colab": {
          "base_uri": "https://localhost:8080/",
          "height": 565
        },
        "id": "sVFqmDf_XssO",
        "outputId": "fc23fd43-7f80-4634-9b59-ad2bd6cac3f1"
      },
      "execution_count": 60,
      "outputs": [
        {
          "output_type": "display_data",
          "data": {
            "text/plain": [
              "<Figure size 800x600 with 1 Axes>"
            ],
            "image/png": "[encoded data removed]"
          },
          "metadata": {}
        }
      ]
    },
    {
      "cell_type": "code",
      "source": [
        "import matplotlib.pyplot as plt\n",
        "\n",
        "tiendas = ['Tienda 1', 'Tienda 2', 'Tienda 3', 'Tienda 4']\n",
        "calificaciones = [calificacion_tienda, calificacion_tienda2, calificacion_tienda3, calificacion_tienda4]\n",
        "\n",
        "plt.figure(figsize=(8, 6))\n",
        "plt.plot(tiendas, calificaciones, marker='o', linestyle='-')\n",
        "plt.title('Calificación Promedio por Tienda')\n",
        "plt.xlabel('Tienda')\n",
        "plt.ylabel('Calificación Promedio')\n",
        "plt.ylim(0, 5) # Assuming ratings are on a scale of 1-5\n",
        "plt.grid(True)\n",
        "plt.show()"
      ],
      "metadata": {
        "colab": {
          "base_uri": "https://localhost:8080/",
          "height": 565
        },
        "id": "uR2xf1y3Ysji",
        "outputId": "38491ac8-7929-4bfc-d285-790db8953454"
      },
      "execution_count": 62,
      "outputs": [
        {
          "output_type": "display_data",
          "data": {
            "text/plain": [
              "<Figure size 800x600 with 1 Axes>"
            ],
            "image/png": "[encoded data removed]"
          },
          "metadata": {}
        }
      ]
    },
    {
      "cell_type": "code",
      "source": [
        "import matplotlib.pyplot as plt\n",
        "\n",
        "tiendas = ['Tienda 1', 'Tienda 2', 'Tienda 3', 'Tienda 4']\n",
        "costos_envio_promedio = [costo_envio_promedio_tienda, costo_envio_promedio_tienda2, costo_envio_promedio_tienda3, costo_envio_promedio_tienda4]\n",
        "\n",
        "plt.figure(figsize=(10, 10))\n",
        "plt.pie(costos_envio_promedio, labels=tiendas, autopct=lambda pct: f'${(pct/100.*sum(costos_envio_promedio)):,.2f}', startangle=140)\n",
        "plt.title('Distribución del Costo de Envío Promedio por Tienda')\n",
        "plt.axis('equal')  # Equal aspect ratio ensures that pie is drawn as a circle.\n",
        "plt.show()"
      ],
      "metadata": {
        "colab": {
          "base_uri": "https://localhost:8080/",
          "height": 833
        },
        "id": "sLCCfL55ZsI0",
        "outputId": "65340dd5-a0e5-4f20-f806-9a44b874641b"
      },
      "execution_count": 65,
      "outputs": [
        {
          "output_type": "display_data",
          "data": {
            "text/plain": [
              "<Figure size 1000x1000 with 1 Axes>"
            ],
            "image/png": "[encoded data removed]"
          },
          "metadata": {}
        }
      ]
    },
    {
      "cell_type": "markdown",
      "metadata": {
        "id": "3a18700d"
      },
      "source": [
        "## Informe de Análisis y Recomendación para el Sr. Juan\n",
        "\n",
        "**Introducción**\n",
        "\n",
        "El propósito de este informe es analizar el rendimiento de las cuatro tiendas basándose en varios factores clave, con el fin de recomendar al Sr. Juan a qué tienda debería vender sus productos para un nuevo emprendimiento y cuáles debería mantener. Se considerarán los ingresos totales, las ventas por categoría, las calificaciones de los clientes, los productos más y menos vendidos, y el costo de envío promedio para cada tienda. El objetivo es proporcionar una recomendación justificada y respaldada por los datos y visualizaciones generadas.\n",
        "\n",
        "**Análisis de Factores Clave**\n",
        "\n",
        "A continuación, se presentan los hallazgos del análisis de cada factor clave para cada una de las cuatro tiendas:\n",
        "\n",
        "**1. Ingresos Totales (Facturación)**\n",
        "\n",
        "Como se observa en el gráfico de barras de \"Análisis de Facturación por Tienda\", la Tienda 1 generó los ingresos totales más altos, seguida por la Tienda 2, Tienda 3 y Tienda 4.\n",
        "\n",
        "*   **Tienda 1:** Mayor facturación total.\n",
        "*   **Tienda 4:** Menor facturación total.\n",
        "\n",
        "**2. Ventas por Categoría**\n",
        "\n",
        "El análisis de ventas por categoría en cada tienda muestra las preferencias de los clientes en cada ubicación.\n",
        "\n",
        "*   **Tienda 1:** Muebles y Electrónicos fueron las categorías más vendidas. Artículos para el hogar y Libros fueron las menos vendidas.\n",
        "*   **Tienda 2:** Muebles y Electrónicos fueron las categorías más vendidas. Auriculares y Juego de mesa fueron las menos vendidas.\n",
        "*   **Tienda 3:** Muebles y Electrónicos fueron las categorías más vendidas. Instrumentos musicales y Artículos para el hogar fueron las menos vendidas.\n",
        "*   **Tienda 4:** Muebles y Electrónicos fueron las categorías más vendidas. Guitarra eléctrica y Armario fueron las menos vendidas.\n",
        "\n",
        "**3. Calificaciones Promedio de los Clientes**\n",
        "\n",
        "La calificación promedio de los clientes refleja la satisfacción general con la tienda.\n",
        "\n",
        "*   **Tienda 1:** Calificación promedio de 3.98\n",
        "*   **Tienda 2:** Calificación promedio de 4.04\n",
        "*   **Tienda 3:** Calificación promedio de 4.05\n",
        "*   **Tienda 4:** Calificación promedio de 4.0\n",
        "\n",
        "La Tienda 3 tuvo la calificación promedio más alta, indicando una mayor satisfacción del cliente en comparación con las otras tiendas.\n",
        "\n",
        "**4. Productos Más y Menos Vendidos**\n",
        "\n",
        "El análisis de los productos más y menos vendidos en cada tienda proporciona información sobre la popularidad de productos específicos.\n",
        "\n",
        "*   **Tienda 1:** Productos más vendidos: Armario, TV LED UHD 4K, Microondas. Productos menos vendidos: Mochila, Pandereta, Olla de presión.\n",
        "*   **Tienda 2:** Productos más vendidos: Iniciando en programación, Microondas, Batería. Productos menos vendidos: Auriculares, Sillón, Impresora.\n",
        "*   **Tienda 3:** Productos más vendidos: Kit de bancas, Mesa de comedor, Cama king. Productos menos vendidos: Guitarra eléctrica, Mochila, Microondas.\n",
        "*   **Tienda 4:** Productos más vendidos: Cama box, Cubertería, Cama king. Productos menos vendidos: Ciencia de datos con Python, Refrigerador, Guitarra acústica.\n",
        "\n",
        "**5. Coste de Envío Promedio**\n",
        "\n",
        "El costo de envío promedio impacta en la rentabilidad.\n",
        "\n",
        "*   **Tienda 1:** Costo de envío promedio de $26,018.61\n",
        "\n",
        "*   **Tienda 2:** Costo de envío promedio de $25,216.24\n",
        "\n",
        "*   **Tienda 3:** Costo de envío promedio de $24,805.68\n",
        "\n",
        "*   **Tienda 4:** Costo de envío promedio de $23,459.46\n",
        "\n",
        "La Tienda 4 tuvo el costo de envío promedio más bajo.\n",
        "\n",
        "**Análisis de Eficiencia y Recomendación**\n",
        "\n",
        "Basándonos en el análisis de los factores clave:\n",
        "\n",
        "*   La **Tienda 4** parece ser la **menos eficiente** en términos de facturación total, generando los menores ingresos. Aunque tiene el costo de envío promedio más bajo, su bajo volumen de ventas generales y productos menos vendidos menos populares podrían indicar áreas de mejora en marketing o gestión de inventario.\n",
        "\n",
        "*   La **Tienda 1** generó los mayores ingresos totales, lo que la convierte en una opción atractiva para mantener y potenciar.\n",
        "\n",
        "*   La **Tienda 3** destaca por tener la calificación promedio de clientes más alta, lo que sugiere una fuerte satisfacción del cliente. Esta tienda también sería una buena opción para mantener y enfocar esfuerzos en retención de clientes.\n",
        "\n",
        "*   La **Tienda 2** presenta un rendimiento intermedio en la mayoría de los factores, lo que sugiere que podría ser una tienda con potencial de crecimiento si se implementan estrategias adecuadas.\n",
        "\n",
        "**Conclusión y Recomendación**\n",
        "\n",
        "Considerando todos los factores analizados y el objetivo de generar un nuevo emprendimiento, se recomienda al Sr. Juan **vender la Tienda 4** y **mantener las Tiendas 1, 2 y 3**.\n",
        "\n",
        "Esta recomendación se basa en las siguientes razones:\n",
        "\n",
        "*   **La Tienda 4 es la menos eficiente:** Con la menor facturación total y productos menos vendidos menos populares, la Tienda 4 representa la menor oportunidad de crecimiento actual y su venta liberaría recursos para invertir en el nuevo emprendimiento.\n",
        "*   **Las Tiendas 1, 2 y 3 son más sólidas:** Las Tiendas 1, 2 y 3 presentan mayores ingresos totales, categorías de productos más populares y, en el caso de la Tienda 3, una alta satisfacción del cliente. Mantener estas tiendas asegura un flujo de ingresos estable y potencial de crecimiento continuo.\n",
        "*   **Optimización de recursos:** La venta de la Tienda 4 permite al Sr. Juan concentrar sus esfuerzos y recursos en las tiendas más rentables y en el nuevo emprendimiento.\n",
        "\n",
        "Es importante que el Sr. Juan también considere el tipo específico de productos que ofrecerá en su nuevo emprendimiento y cómo se alinea con las tendencias del mercado actual."
      ]
    },
    {
      "cell_type": "markdown",
      "source": [
        "Extra: Análisis del desempeño geográfico"
      ],
      "metadata": {
        "id": "vGRUshtOeehw"
      }
    },
    {
      "cell_type": "code",
      "source": [
        "import matplotlib.pyplot as plt\n",
        "import seaborn as sns\n",
        "import pandas as pd\n",
        "\n",
        "url = \"https://raw.githubusercontent.com/alura-es-cursos/challenge1-data-science-latam/refs/heads/main/base-de-datos-challenge1-latam/tienda_1%20.csv\"\n",
        "url2 = \"https://raw.githubusercontent.com/alura-es-cursos/challenge1-data-science-latam/refs/heads/main/base-de-datos-challenge1-latam/tienda_2.csv\"\n",
        "url3 = \"https://raw.githubusercontent.com/alura-es-cursos/challenge1-data-science-latam/refs/heads/main/base-de-datos-challenge1-latam/tienda_3.csv\"\n",
        "url4 = \"https://raw.githubusercontent.com/alura-es-cursos/challenge1-data-science-latam/refs/heads/main/base-de-datos-challenge1-latam/tienda_4.csv\"\n",
        "\n",
        "tienda = pd.read_csv(url)\n",
        "tienda2 = pd.read_csv(url2)\n",
        "tienda3 = pd.read_csv(url3)\n",
        "tienda4 = pd.read_csv(url4)\n",
        "\n",
        "\n",
        "tienda['Store'] = 'Tienda 1'\n",
        "tienda2['Store'] = 'Tienda 2'\n",
        "tienda3['Store'] = 'Tienda 3'\n",
        "tienda4['Store'] = 'Tienda 4'\n",
        "\n",
        "all_stores_df = pd.concat([tienda, tienda2, tienda3, tienda4])\n",
        "\n",
        "plt.figure(figsize=(12, 8))\n",
        "sns.scatterplot(data=all_stores_df, x='lon', y='lat', hue='Store', alpha=0.6, s=50, palette='Set1') # Increased size and changed palette\n",
        "plt.title('Mapa de Dispersión de Ventas por Tienda con Superposición Resaltada')\n",
        "plt.xlabel('Longitud')\n",
        "plt.ylabel('Latitud')\n",
        "plt.grid(True)\n",
        "plt.legend(title='Tienda')\n",
        "plt.show()"
      ],
      "metadata": {
        "colab": {
          "base_uri": "https://localhost:8080/",
          "height": 719
        },
        "id": "By2hoC5Tegmy",
        "outputId": "b77bd140-8402-4988-a3bc-2d7b32dd3b82"
      },
      "execution_count": 73,
      "outputs": [
        {
          "output_type": "display_data",
          "data": {
            "text/plain": [
              "<Figure size 1200x800 with 1 Axes>"
            ],
            "image/png": "[encoded data removed]"
          },
          "metadata": {}
        }
      ]
    }
  ]
}